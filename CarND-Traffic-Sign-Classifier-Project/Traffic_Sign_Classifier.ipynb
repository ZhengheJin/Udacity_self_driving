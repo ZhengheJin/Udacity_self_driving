{
 "cells": [
  {
   "cell_type": "markdown",
   "metadata": {},
   "source": [
    "# Self-Driving Car Engineer Nanodegree\n",
    "\n",
    "## Deep Learning\n",
    "\n",
    "## Project: Build a Traffic Sign Recognition Classifier\n",
    "\n",
    "In this notebook, a template is provided for you to implement your functionality in stages which is required to successfully complete this project. If additional code is required that cannot be included in the notebook, be sure that the Python code is successfully imported and included in your submission, if necessary. Sections that begin with **'Implementation'** in the header indicate where you should begin your implementation for your project. Note that some sections of implementation are optional, and will be marked with **'Optional'** in the header.\n",
    "\n",
    "In addition to implementing code, there will be questions that you must answer which relate to the project and your implementation. Each section where you will answer a question is preceded by a **'Question'** header. Carefully read each question and provide thorough answers in the following text boxes that begin with **'Answer:'**. Your project submission will be evaluated based on your answers to each of the questions and the implementation you provide.\n",
    "\n",
    ">**Note:** Code and Markdown cells can be executed using the **Shift + Enter** keyboard shortcut. In addition, Markdown cells can be edited by typically double-clicking the cell to enter edit mode."
   ]
  },
  {
   "cell_type": "markdown",
   "metadata": {},
   "source": [
    "---\n",
    "## Step 0: Load The Data"
   ]
  },
  {
   "cell_type": "code",
   "execution_count": 1,
   "metadata": {
    "collapsed": true
   },
   "outputs": [],
   "source": [
    "# Load pickled data\n",
    "import pickle\n",
    "\n",
    "# TODO: Fill this in based on where you saved the training and testing data\n",
    "\n",
    "training_file = \"train.p\"\n",
    "testing_file = \"test.p\"\n",
    "\n",
    "with open(training_file, mode='rb') as f:\n",
    "    train = pickle.load(f)\n",
    "with open(testing_file, mode='rb') as f:\n",
    "    test = pickle.load(f)\n",
    "    \n",
    "X_train, y_train = train['features'], train['labels']\n",
    "X_test, y_test = test['features'], test['labels']"
   ]
  },
  {
   "cell_type": "markdown",
   "metadata": {},
   "source": [
    "---\n",
    "\n",
    "## Step 1: Dataset Summary & Exploration\n",
    "\n",
    "The pickled data is a dictionary with 4 key/value pairs:\n",
    "\n",
    "- `'features'` is a 4D array containing raw pixel data of the traffic sign images, (num examples, width, height, channels).\n",
    "- `'labels'` is a 2D array containing the label/class id of the traffic sign. The file `signnames.csv` contains id -> name mappings for each id.\n",
    "- `'sizes'` is a list containing tuples, (width, height) representing the the original width and height the image.\n",
    "- `'coords'` is a list containing tuples, (x1, y1, x2, y2) representing coordinates of a bounding box around the sign in the image. **THESE COORDINATES ASSUME THE ORIGINAL IMAGE. THE PICKLED DATA CONTAINS RESIZED VERSIONS (32 by 32) OF THESE IMAGES**\n",
    "\n",
    "Complete the basic data summary below."
   ]
  },
  {
   "cell_type": "code",
   "execution_count": 2,
   "metadata": {},
   "outputs": [
    {
     "name": "stdout",
     "output_type": "stream",
     "text": [
      "Number of training examples = 34799\n",
      "Number of testing examples = 12630\n",
      "Image data shape = (32, 32, 3)\n",
      "Number of classes = 43\n"
     ]
    }
   ],
   "source": [
    "### Replace each question mark with the appropriate value.\n",
    "\n",
    "# TODO: Number of training examples\n",
    "n_train = X_train.shape[0]\n",
    "\n",
    "# TODO: Number of testing examples.\n",
    "n_test = X_test.shape[0]\n",
    "\n",
    "# TODO: What's the shape of an traffic sign image?\n",
    "image_shape = X_train.shape[1:]\n",
    "\n",
    "# TODO: How many unique classes/labels there are in the dataset.\n",
    "n_classes = len(set(y_train))\n",
    "\n",
    "print(\"Number of training examples =\", n_train)\n",
    "print(\"Number of testing examples =\", n_test)\n",
    "print(\"Image data shape =\", image_shape)\n",
    "print(\"Number of classes =\", n_classes)"
   ]
  },
  {
   "cell_type": "markdown",
   "metadata": {},
   "source": [
    "Visualize the German Traffic Signs Dataset using the pickled file(s). This is open ended, suggestions include: plotting traffic sign images, plotting the count of each sign, etc.\n",
    "\n",
    "The [Matplotlib](http://matplotlib.org/) [examples](http://matplotlib.org/examples/index.html) and [gallery](http://matplotlib.org/gallery.html) pages are a great resource for doing visualizations in Python.\n",
    "\n",
    "**NOTE:** It's recommended you start with something simple first. If you wish to do more, come back to it after you've completed the rest of the sections."
   ]
  },
  {
   "cell_type": "code",
   "execution_count": 3,
   "metadata": {
    "collapsed": true
   },
   "outputs": [],
   "source": [
    "### Data exploration visualization goes here.\n",
    "### Feel free to use as many code cells as needed.\n",
    "import matplotlib.pyplot as plt\n",
    "# Visualizations will be shown in the notebook.\n",
    "%matplotlib inline"
   ]
  },
  {
   "cell_type": "markdown",
   "metadata": {},
   "source": [
    "----\n",
    "\n",
    "## Step 2: Design and Test a Model Architecture\n",
    "\n",
    "Design and implement a deep learning model that learns to recognize traffic signs. Train and test your model on the [German Traffic Sign Dataset](http://benchmark.ini.rub.de/?section=gtsrb&subsection=dataset).\n",
    "\n",
    "There are various aspects to consider when thinking about this problem:\n",
    "\n",
    "- Neural network architecture\n",
    "- Play around preprocessing techniques (normalization, rgb to grayscale, etc)\n",
    "- Number of examples per label (some have more than others).\n",
    "- Generate fake data.\n",
    "\n",
    "Here is an example of a [published baseline model on this problem](http://yann.lecun.com/exdb/publis/pdf/sermanet-ijcnn-11.pdf). It's not required to be familiar with the approach used in the paper but, it's good practice to try to read papers like these.\n",
    "\n",
    "**NOTE:** The LeNet-5 implementation shown in the [classroom](https://classroom.udacity.com/nanodegrees/nd013/parts/fbf77062-5703-404e-b60c-95b78b2f3f9e/modules/6df7ae49-c61c-4bb2-a23e-6527e69209ec/lessons/601ae704-1035-4287-8b11-e2c2716217ad/concepts/d4aca031-508f-4e0b-b493-e7b706120f81) at the end of the CNN lesson is a solid starting point. You'll have to change the number of classes and possibly the preprocessing, but aside from that it's plug and play!"
   ]
  },
  {
   "cell_type": "markdown",
   "metadata": {},
   "source": [
    "### Implementation\n",
    "\n",
    "Use the code cell (or multiple code cells, if necessary) to implement the first step of your project. Once you have completed your implementation and are satisfied with the results, be sure to thoroughly answer the questions that follow."
   ]
  },
  {
   "cell_type": "code",
   "execution_count": 4,
   "metadata": {},
   "outputs": [
    {
     "name": "stdout",
     "output_type": "stream",
     "text": [
      "40\n"
     ]
    },
    {
     "data": {
      "image/png": "[encoded data removed]",
      "text/plain": [
       "<matplotlib.figure.Figure at 0x7f48740a4240>"
      ]
     },
     "metadata": {},
     "output_type": "display_data"
    }
   ],
   "source": [
    "### Preprocess the data here.\n",
    "### Feel free to use as many code cells as needed.\n",
    "#importing some useful packages\n",
    "import matplotlib.pyplot as plt\n",
    "import matplotlib.image as mpimg\n",
    "import numpy as np\n",
    "import cv2\n",
    "from random import randint\n",
    "%matplotlib inline\n",
    "index = randint(0,n_train)\n",
    "plt.imshow(X_train[index])\n",
    "print(y_train[index])"
   ]
  },
  {
   "cell_type": "code",
   "execution_count": 5,
   "metadata": {},
   "outputs": [
    {
     "name": "stdout",
     "output_type": "stream",
     "text": [
      "(30150, 32, 32, 3)\n",
      "(30150,)\n",
      "(14850, 32, 32, 3)\n",
      "(14850,)\n",
      "(2429, 32, 32, 3)\n",
      "(2429,)\n"
     ]
    }
   ],
   "source": [
    "from sklearn.utils import shuffle\n",
    "from sklearn.model_selection import train_test_split\n",
    "\n",
    "X_temp = np.concatenate((X_train, X_test))\n",
    "y_temp = np.concatenate((y_train, y_test))\n",
    "X_temp, y_temp = shuffle(X_temp, y_temp)\n",
    "\n",
    "X_train, X_valid, y_train, y_valid = train_test_split(X_temp[:45000], y_temp[:45000], test_size=0.33, random_state=42)\n",
    "X_test = X_temp[45000:,:,:,:]\n",
    "y_test = y_temp[45000:]\n",
    "print(X_train.shape)\n",
    "print(y_train.shape)\n",
    "print(X_valid.shape)\n",
    "print(y_valid.shape)\n",
    "print(X_test.shape)\n",
    "print(y_test.shape)"
   ]
  },
  {
   "cell_type": "code",
   "execution_count": 6,
   "metadata": {
    "collapsed": true
   },
   "outputs": [],
   "source": [
    "def stat(data):\n",
    "    label_count = {}\n",
    "    for i in data:\n",
    "        label_count[i] = label_count.get(i, 0)  + 1\n",
    "    return label_count\n",
    "train_stat = stat(y_train)\n",
    "valid_stat = stat(y_valid)\n",
    "test_stat = stat(y_test)"
   ]
  },
  {
   "cell_type": "code",
   "execution_count": 7,
   "metadata": {},
   "outputs": [
    {
     "data": {
      "text/plain": [
       "<matplotlib.figure.Figure at 0x7f484163d198>"
      ]
     },
     "metadata": {},
     "output_type": "display_data"
    },
    {
     "data": {
      "image/png": "[encoded data removed]",
      "text/plain": [
       "<matplotlib.figure.Figure at 0x7f481e80bcc0>"
      ]
     },
     "metadata": {},
     "output_type": "display_data"
    }
   ],
   "source": [
    "import matplotlib.pyplot as plt\n",
    "\n",
    "plt.figure(1)\n",
    "plt.subplots_adjust(hspace=1)\n",
    "plt.figure(figsize=(12,3.5))\n",
    "\n",
    "plt.subplot(131)\n",
    "plt.bar(range(len(train_stat)), train_stat.values(), align='center')\n",
    "#plt.xticks(range(len(train_stat)),train_stat.keys())\n",
    "plt.title('Train')\n",
    "plt.xlabel('Labels')\n",
    "plt.ylabel('Occurencies')\n",
    "\n",
    "plt.subplot(132)\n",
    "plt.bar(range(len(valid_stat)), valid_stat.values(), align='center')\n",
    "#plt.xticks(range(len(valid_stat)),valid_stat.keys())\n",
    "plt.title('Valid')\n",
    "plt.xlabel('Labels')\n",
    "\n",
    "plt.subplot(133)\n",
    "plt.bar(range(len(test_stat)), test_stat.values(), align='center')\n",
    "#plt.xticks(range(len(test_stat)),test_stat.keys())\n",
    "plt.title('Test')\n",
    "plt.xlabel('Labels')\n",
    "\n",
    "plt.show()"
   ]
  },
  {
   "cell_type": "code",
   "execution_count": 8,
   "metadata": {
    "collapsed": true
   },
   "outputs": [],
   "source": [
    "def min_max_normalization(images):\n",
    "    new_images = []\n",
    "    for image in images:\n",
    "        image_min = np.min(image)\n",
    "        image_max = np.max(image)\n",
    "        new_images.append(255.0*(image-image_min)/(image_max - image_min))\n",
    "    return new_images\n",
    "X_train_n = min_max_normalization(X_train)\n",
    "X_valid_n = min_max_normalization(X_valid)\n",
    "X_test_n = min_max_normalization(X_test)"
   ]
  },
  {
   "cell_type": "code",
   "execution_count": 9,
   "metadata": {
    "collapsed": true
   },
   "outputs": [],
   "source": [
    "import tensorflow as tf\n",
    "EPOCHS = 100\n",
    "BATCH_SIZE = 256"
   ]
  },
  {
   "cell_type": "code",
   "execution_count": 10,
   "metadata": {
    "collapsed": true
   },
   "outputs": [],
   "source": [
    "from tensorflow.contrib.layers import flatten\n",
    "\n",
    "def LeNet(x):    \n",
    "    # Hyperparameters\n",
    "    mu = 0\n",
    "    sigma = 0.1\n",
    "    \n",
    "    # SOLUTION: Layer 1: Convolutional. Input = 32x32x3. Output = 28x28x6.\n",
    "    conv1_W = tf.Variable(tf.truncated_normal(shape=(5, 5, 3, 6), mean = mu, stddev = sigma))\n",
    "    conv1_b = tf.Variable(tf.zeros(6))\n",
    "    conv1   = tf.nn.conv2d(x, conv1_W, strides=[1, 1, 1, 1], padding='VALID') + conv1_b\n",
    "\n",
    "    # SOLUTION: Activation.\n",
    "    conv1 = tf.nn.relu(conv1)\n",
    "\n",
    "    # SOLUTION: Pooling. Input = 28x28x6. Output = 14x14x6.\n",
    "    conv1 = tf.nn.max_pool(conv1, ksize=[1, 2, 2, 1], strides=[1, 2, 2, 1], padding='VALID')\n",
    "\n",
    "    # SOLUTION: Layer 2: Convolutional. Output = 10x10x16.\n",
    "    conv2_W = tf.Variable(tf.truncated_normal(shape=(5, 5, 6, 16), mean = mu, stddev = sigma))\n",
    "    conv2_b = tf.Variable(tf.zeros(16))\n",
    "    conv2   = tf.nn.conv2d(conv1, conv2_W, strides=[1, 1, 1, 1], padding='VALID') + conv2_b\n",
    "    \n",
    "    # SOLUTION: Activation.\n",
    "    conv2 = tf.nn.relu(conv2)\n",
    "\n",
    "    # SOLUTION: Pooling. Input = 10x10x16. Output = 5x5x16.\n",
    "    conv2 = tf.nn.max_pool(conv2, ksize=[1, 2, 2, 1], strides=[1, 2, 2, 1], padding='VALID')\n",
    "\n",
    "    # SOLUTION: Flatten. Input = 5x5x16. Output = 400.\n",
    "    fc0   = flatten(conv2)\n",
    "    \n",
    "    # SOLUTION: Layer 3: Fully Connected. Input = 400. Output = 120.\n",
    "    fc1_W = tf.Variable(tf.truncated_normal(shape=(400, 120), mean = mu, stddev = sigma))\n",
    "    fc1_b = tf.Variable(tf.zeros(120))\n",
    "    fc1   = tf.matmul(fc0, fc1_W) + fc1_b\n",
    "    \n",
    "    # SOLUTION: Activation.\n",
    "    fc1    = tf.nn.relu(fc1)\n",
    "\n",
    "    # SOLUTION: Layer 4: Fully Connected. Input = 120. Output = 84.\n",
    "    fc2_W  = tf.Variable(tf.truncated_normal(shape=(120, 84), mean = mu, stddev = sigma))\n",
    "    fc2_b  = tf.Variable(tf.zeros(84))\n",
    "    fc2    = tf.matmul(fc1, fc2_W) + fc2_b\n",
    "    \n",
    "    # SOLUTION: Activation.\n",
    "    fc2    = tf.nn.relu(fc2)\n",
    "\n",
    "    # SOLUTION: Layer 5: Fully Connected. Input = 84. Output = n_classes.\n",
    "    fc3_W  = tf.Variable(tf.truncated_normal(shape=(84, n_classes), mean = mu, stddev = sigma))\n",
    "    fc3_b  = tf.Variable(tf.zeros(n_classes))\n",
    "    logits = tf.matmul(fc2, fc3_W) + fc3_b\n",
    "    \n",
    "    return logits"
   ]
  },
  {
   "cell_type": "code",
   "execution_count": 11,
   "metadata": {
    "collapsed": true
   },
   "outputs": [],
   "source": [
    "x = tf.placeholder(tf.float32, (None, 32, 32, 3))\n",
    "y = tf.placeholder(tf.int32, (None))\n",
    "one_hot_y = tf.one_hot(y, n_classes)"
   ]
  },
  {
   "cell_type": "code",
   "execution_count": 12,
   "metadata": {
    "collapsed": true
   },
   "outputs": [],
   "source": [
    "rate = 0.001\n",
    "\n",
    "logits = LeNet(x)\n",
    "cross_entropy = tf.nn.softmax_cross_entropy_with_logits(labels=one_hot_y, logits=logits)\n",
    "loss_operation = tf.reduce_mean(cross_entropy)\n",
    "optimizer = tf.train.AdamOptimizer(learning_rate = rate)\n",
    "training_operation = optimizer.minimize(loss_operation)"
   ]
  },
  {
   "cell_type": "code",
   "execution_count": 13,
   "metadata": {
    "collapsed": true
   },
   "outputs": [],
   "source": [
    "correct_prediction = tf.equal(tf.argmax(logits, 1), tf.argmax(one_hot_y, 1))\n",
    "accuracy_operation = tf.reduce_mean(tf.cast(correct_prediction, tf.float32))\n",
    "saver = tf.train.Saver()\n",
    "\n",
    "def evaluate(X_data, y_data):\n",
    "    num_examples = len(X_data)\n",
    "    total_accuracy = 0\n",
    "    sess = tf.get_default_session()\n",
    "    for offset in range(0, num_examples, BATCH_SIZE):\n",
    "        batch_x, batch_y = X_data[offset:offset+BATCH_SIZE], y_data[offset:offset+BATCH_SIZE]\n",
    "        accuracy = sess.run(accuracy_operation, feed_dict={x: batch_x, y: batch_y})\n",
    "        total_accuracy += (accuracy * len(batch_x))\n",
    "    return total_accuracy / num_examples"
   ]
  },
  {
   "cell_type": "code",
   "execution_count": 14,
   "metadata": {},
   "outputs": [
    {
     "name": "stdout",
     "output_type": "stream",
     "text": [
      "Training...\n",
      "\n",
      "EPOCH 1 ...\n",
      "Validation Accuracy = 0.405\n",
      "\n",
      "EPOCH 2 ...\n",
      "Validation Accuracy = 0.681\n",
      "\n",
      "EPOCH 3 ...\n",
      "Validation Accuracy = 0.795\n",
      "\n",
      "EPOCH 4 ...\n",
      "Validation Accuracy = 0.841\n",
      "\n",
      "EPOCH 5 ...\n",
      "Validation Accuracy = 0.881\n",
      "\n",
      "EPOCH 6 ...\n",
      "Validation Accuracy = 0.895\n",
      "\n",
      "EPOCH 7 ...\n",
      "Validation Accuracy = 0.910\n",
      "\n",
      "EPOCH 8 ...\n",
      "Validation Accuracy = 0.918\n",
      "\n",
      "EPOCH 9 ...\n",
      "Validation Accuracy = 0.927\n",
      "\n",
      "EPOCH 10 ...\n",
      "Validation Accuracy = 0.934\n",
      "\n",
      "EPOCH 11 ...\n",
      "Validation Accuracy = 0.938\n",
      "\n",
      "EPOCH 12 ...\n",
      "Validation Accuracy = 0.943\n",
      "\n",
      "EPOCH 13 ...\n",
      "Validation Accuracy = 0.941\n",
      "\n",
      "EPOCH 14 ...\n",
      "Validation Accuracy = 0.939\n",
      "\n",
      "EPOCH 15 ...\n",
      "Validation Accuracy = 0.947\n",
      "\n",
      "EPOCH 16 ...\n",
      "Validation Accuracy = 0.954\n",
      "\n",
      "EPOCH 17 ...\n",
      "Validation Accuracy = 0.950\n",
      "\n",
      "EPOCH 18 ...\n",
      "Validation Accuracy = 0.954\n",
      "\n",
      "EPOCH 19 ...\n",
      "Validation Accuracy = 0.956\n",
      "\n",
      "EPOCH 20 ...\n",
      "Validation Accuracy = 0.955\n",
      "\n",
      "EPOCH 21 ...\n",
      "Validation Accuracy = 0.957\n",
      "\n",
      "EPOCH 22 ...\n",
      "Validation Accuracy = 0.959\n",
      "\n",
      "EPOCH 23 ...\n",
      "Validation Accuracy = 0.958\n",
      "\n",
      "EPOCH 24 ...\n",
      "Validation Accuracy = 0.958\n",
      "\n",
      "EPOCH 25 ...\n",
      "Validation Accuracy = 0.957\n",
      "\n",
      "EPOCH 26 ...\n",
      "Validation Accuracy = 0.961\n",
      "\n",
      "EPOCH 27 ...\n",
      "Validation Accuracy = 0.954\n",
      "\n",
      "EPOCH 28 ...\n",
      "Validation Accuracy = 0.960\n",
      "\n",
      "EPOCH 29 ...\n",
      "Validation Accuracy = 0.957\n",
      "\n",
      "EPOCH 30 ...\n",
      "Validation Accuracy = 0.966\n",
      "\n",
      "EPOCH 31 ...\n",
      "Validation Accuracy = 0.968\n",
      "\n",
      "EPOCH 32 ...\n",
      "Validation Accuracy = 0.965\n",
      "\n",
      "EPOCH 33 ...\n",
      "Validation Accuracy = 0.965\n",
      "\n",
      "EPOCH 34 ...\n",
      "Validation Accuracy = 0.949\n",
      "\n",
      "EPOCH 35 ...\n",
      "Validation Accuracy = 0.967\n",
      "\n",
      "EPOCH 36 ...\n",
      "Validation Accuracy = 0.964\n",
      "\n",
      "EPOCH 37 ...\n",
      "Validation Accuracy = 0.966\n",
      "\n",
      "EPOCH 38 ...\n",
      "Validation Accuracy = 0.969\n",
      "\n",
      "EPOCH 39 ...\n",
      "Validation Accuracy = 0.958\n",
      "\n",
      "EPOCH 40 ...\n",
      "Validation Accuracy = 0.959\n",
      "\n",
      "EPOCH 41 ...\n",
      "Validation Accuracy = 0.966\n",
      "\n",
      "EPOCH 42 ...\n",
      "Validation Accuracy = 0.962\n",
      "\n",
      "EPOCH 43 ...\n",
      "Validation Accuracy = 0.960\n",
      "\n",
      "EPOCH 44 ...\n",
      "Validation Accuracy = 0.969\n",
      "\n",
      "EPOCH 45 ...\n",
      "Validation Accuracy = 0.966\n",
      "\n",
      "EPOCH 46 ...\n",
      "Validation Accuracy = 0.959\n",
      "\n",
      "EPOCH 47 ...\n",
      "Validation Accuracy = 0.967\n",
      "\n",
      "EPOCH 48 ...\n",
      "Validation Accuracy = 0.968\n",
      "\n",
      "EPOCH 49 ...\n",
      "Validation Accuracy = 0.972\n",
      "\n",
      "EPOCH 50 ...\n",
      "Validation Accuracy = 0.971\n",
      "\n",
      "EPOCH 51 ...\n",
      "Validation Accuracy = 0.967\n",
      "\n",
      "EPOCH 52 ...\n",
      "Validation Accuracy = 0.972\n",
      "\n",
      "EPOCH 53 ...\n",
      "Validation Accuracy = 0.960\n",
      "\n",
      "EPOCH 54 ...\n",
      "Validation Accuracy = 0.966\n",
      "\n",
      "EPOCH 55 ...\n",
      "Validation Accuracy = 0.967\n",
      "\n",
      "EPOCH 56 ...\n",
      "Validation Accuracy = 0.966\n",
      "\n",
      "EPOCH 57 ...\n",
      "Validation Accuracy = 0.971\n",
      "\n",
      "EPOCH 58 ...\n",
      "Validation Accuracy = 0.968\n",
      "\n",
      "EPOCH 59 ...\n",
      "Validation Accuracy = 0.967\n",
      "\n",
      "EPOCH 60 ...\n",
      "Validation Accuracy = 0.973\n",
      "\n",
      "EPOCH 61 ...\n",
      "Validation Accuracy = 0.972\n",
      "\n",
      "EPOCH 62 ...\n",
      "Validation Accuracy = 0.972\n",
      "\n",
      "EPOCH 63 ...\n",
      "Validation Accuracy = 0.972\n",
      "\n",
      "EPOCH 64 ...\n",
      "Validation Accuracy = 0.974\n",
      "\n",
      "EPOCH 65 ...\n",
      "Validation Accuracy = 0.972\n",
      "\n",
      "EPOCH 66 ...\n",
      "Validation Accuracy = 0.967\n",
      "\n",
      "EPOCH 67 ...\n",
      "Validation Accuracy = 0.971\n",
      "\n",
      "EPOCH 68 ...\n",
      "Validation Accuracy = 0.966\n",
      "\n",
      "EPOCH 69 ...\n",
      "Validation Accuracy = 0.967\n",
      "\n",
      "EPOCH 70 ...\n",
      "Validation Accuracy = 0.969\n",
      "\n",
      "EPOCH 71 ...\n",
      "Validation Accuracy = 0.973\n",
      "\n",
      "EPOCH 72 ...\n",
      "Validation Accuracy = 0.971\n",
      "\n",
      "EPOCH 73 ...\n",
      "Validation Accuracy = 0.975\n",
      "\n",
      "EPOCH 74 ...\n",
      "Validation Accuracy = 0.973\n",
      "\n",
      "EPOCH 75 ...\n",
      "Validation Accuracy = 0.974\n",
      "\n",
      "EPOCH 76 ...\n",
      "Validation Accuracy = 0.979\n",
      "\n",
      "EPOCH 77 ...\n",
      "Validation Accuracy = 0.968\n",
      "\n",
      "EPOCH 78 ...\n",
      "Validation Accuracy = 0.978\n",
      "\n",
      "EPOCH 79 ...\n",
      "Validation Accuracy = 0.965\n",
      "\n",
      "EPOCH 80 ...\n",
      "Validation Accuracy = 0.967\n",
      "\n",
      "EPOCH 81 ...\n",
      "Validation Accuracy = 0.972\n",
      "\n",
      "EPOCH 82 ...\n",
      "Validation Accuracy = 0.975\n",
      "\n",
      "EPOCH 83 ...\n",
      "Validation Accuracy = 0.974\n",
      "\n",
      "EPOCH 84 ...\n",
      "Validation Accuracy = 0.975\n",
      "\n",
      "EPOCH 85 ...\n",
      "Validation Accuracy = 0.973\n",
      "\n",
      "EPOCH 86 ...\n",
      "Validation Accuracy = 0.970\n",
      "\n",
      "EPOCH 87 ...\n",
      "Validation Accuracy = 0.975\n",
      "\n",
      "EPOCH 88 ...\n",
      "Validation Accuracy = 0.973\n",
      "\n",
      "EPOCH 89 ...\n",
      "Validation Accuracy = 0.974\n",
      "\n",
      "EPOCH 90 ...\n",
      "Validation Accuracy = 0.971\n",
      "\n",
      "EPOCH 91 ...\n",
      "Validation Accuracy = 0.972\n",
      "\n",
      "EPOCH 92 ...\n",
      "Validation Accuracy = 0.977\n",
      "\n",
      "EPOCH 93 ...\n",
      "Validation Accuracy = 0.979\n",
      "\n",
      "EPOCH 94 ...\n",
      "Validation Accuracy = 0.971\n",
      "\n",
      "EPOCH 95 ...\n",
      "Validation Accuracy = 0.975\n",
      "\n",
      "EPOCH 96 ...\n",
      "Validation Accuracy = 0.978\n",
      "\n",
      "EPOCH 97 ...\n",
      "Validation Accuracy = 0.970\n",
      "\n",
      "EPOCH 98 ...\n",
      "Validation Accuracy = 0.973\n",
      "\n",
      "EPOCH 99 ...\n",
      "Validation Accuracy = 0.970\n",
      "\n",
      "EPOCH 100 ...\n",
      "Validation Accuracy = 0.977\n",
      "\n",
      "Model saved\n"
     ]
    }
   ],
   "source": [
    "with tf.Session() as sess:\n",
    "    sess.run(tf.global_variables_initializer())\n",
    "    num_examples = len(X_train_n)\n",
    "    \n",
    "    print(\"Training...\")\n",
    "    print()\n",
    "    for i in range(EPOCHS):\n",
    "        X_train_n, y_train = shuffle(X_train_n, y_train)\n",
    "        for offset in range(0, num_examples, BATCH_SIZE):\n",
    "            end = offset + BATCH_SIZE\n",
    "            batch_x, batch_y = X_train_n[offset:end], y_train[offset:end]\n",
    "            sess.run(training_operation, feed_dict={x: batch_x, y: batch_y})\n",
    "            \n",
    "        validation_accuracy = evaluate(X_valid_n, y_valid)\n",
    "\n",
    "        print(\"EPOCH {} ...\".format(i+1))\n",
    "        print(\"Validation Accuracy = {:.3f}\".format(validation_accuracy))\n",
    "        print()\n",
    "        \n",
    "    saver.save(sess, 'lenet')\n",
    "    print(\"Model saved\")"
   ]
  },
  {
   "cell_type": "markdown",
   "metadata": {},
   "source": [
    "### Question 1 \n",
    "\n",
    "_Describe how you preprocessed the data. Why did you choose that technique?_"
   ]
  },
  {
   "cell_type": "markdown",
   "metadata": {},
   "source": [
    "**Answer:**"
   ]
  },
  {
   "cell_type": "markdown",
   "metadata": {
    "collapsed": true
   },
   "source": [
    "1. Plot one image, make sure it looks reasonable.\n",
    "1. Shuffle and split the data set into training, validation and test sets.\n",
    "1. Show distribution of labels in three datasets, make sure the distribution are similar, meaning that shuffling is random.\n",
    "1. The raw images are preprocessed with min_max_normalization which set the darkest value on rgb channel to 255. Doing so would normalize the initial image and mitigate the system bias on each image. Grayscaling is not used because color contains some information, some of the classes contains more red color while other classes contains more blue region.\n",
    "1. One-hot encoding the output, as it will be used in the LeNet."
   ]
  },
  {
   "cell_type": "markdown",
   "metadata": {},
   "source": [
    "### Question 2\n",
    "\n",
    "_Describe how you set up the training, validation and testing data for your model. **Optional**: If you generated additional data, how did you generate the data? Why did you generate the data? What are the differences in the new dataset (with generated data) from the original dataset?_"
   ]
  },
  {
   "cell_type": "markdown",
   "metadata": {},
   "source": [
    "**Answer:**"
   ]
  },
  {
   "cell_type": "markdown",
   "metadata": {
    "collapsed": true
   },
   "source": [
    "The training, validation and test datasets are randomly shuffled with size of 30150, 14850, and 6,839 respectively, training and validation set are splitted with train_test_split function."
   ]
  },
  {
   "cell_type": "markdown",
   "metadata": {},
   "source": [
    "### Question 3\n",
    "\n",
    "_What does your final architecture look like? (Type of model, layers, sizes, connectivity, etc.)  For reference on how to build a deep neural network using TensorFlow, see [Deep Neural Network in TensorFlow\n",
    "](https://classroom.udacity.com/nanodegrees/nd013/parts/fbf77062-5703-404e-b60c-95b78b2f3f9e/modules/6df7ae49-c61c-4bb2-a23e-6527e69209ec/lessons/b516a270-8600-4f93-a0a3-20dfeabe5da6/concepts/83a3a2a2-a9bd-4b7b-95b0-eb924ab14432) from the classroom._\n"
   ]
  },
  {
   "cell_type": "markdown",
   "metadata": {},
   "source": [
    "**Answer:**"
   ]
  },
  {
   "cell_type": "markdown",
   "metadata": {
    "collapsed": true
   },
   "source": [
    "The DNN in this project is the classic LeNet with input size of (32,32,3) for each image, the output labels are 43 in total, which corresponds to the 43 classes of the German Traffic Sign Dataset.\n",
    "\n",
    "The Lenet model contains two convolutional layer (specifically, conv-relu-max_pooling layers), two fully connected layer (fully connected - relu layers) and one last fully connected layer. The convolutional layer extract the  characters of image while fully connected layer tries to mitigate the non-linear features outside the convolutional layer. Relu works as the most simplified non-linear activation function while max_pooling tries to combine information from previous convolution as well as shrink the size of parameters. \n",
    "\n",
    "The detailed size parameters are defined in the LeNet implementation. Notice that input size is 32 by 32 by 3 because all three rgb channels are used in this network."
   ]
  },
  {
   "cell_type": "markdown",
   "metadata": {},
   "source": [
    "### Question 4\n",
    "\n",
    "_How did you train your model? (Type of optimizer, batch size, epochs, hyperparameters, etc.)_\n"
   ]
  },
  {
   "cell_type": "markdown",
   "metadata": {},
   "source": [
    "**Answer:**\n",
    "\n",
    "The epochs and batch size are initially choosen to be 100 and 256. Hyperparameters of mu and sigma are chosen to be 0 and 0.1, which are the same for the MNIST dataset training.\n",
    "\n",
    "The batch size is set to 256. I start with 128 and I noticed some validation accuracy fluctuation. I believe this is caused by smaller batch size with noisier training signal. Higher batch size is better, but longer it will take to compute the gradient for each step. 256 is a good trade-off point for this task. \n",
    "\n",
    "The epochs parameter is set to 50 for it gives almost the best validation accuracy. Usually neural networks works better with longer training time i.e. epochs, but the training error will saturate eventually. I've tested running the neural network model with 100 epoch, but validation accuracy is almost saturated at 50 epochs. I think it is a good trade-off between training time and accuracy for this project.\n",
    "\n",
    "I used the AdamOptimizer with learning rate 1e-3, which is suitable for this task. AdamOptimizer works better in reaching the saturation point as well as avoid overfitting. Learning rate is fixed for this project, it would be better if attentuated a little so that it could saturate faster.\n",
    "\n",
    "Hyperparameters are selected from the previous MNIST tutorial. mu and sigma are used to initialized the weight and biase. They are good as long as the output are not die out (meaning all go to zero) nor diverge."
   ]
  },
  {
   "cell_type": "markdown",
   "metadata": {},
   "source": [
    "### Question 5\n",
    "\n",
    "\n",
    "_What approach did you take in coming up with a solution to this problem? It may have been a process of trial and error, in which case, outline the steps you took to get to the final solution and why you chose those steps. Perhaps your solution involved an already well known implementation or architecture. In this case, discuss why you think this is suitable for the current problem._"
   ]
  },
  {
   "cell_type": "markdown",
   "metadata": {},
   "source": [
    "**Answer:**\n",
    "\n",
    "\n",
    "I started the model building process I used a well-known LeNet architecture. The main reasons for selecting that model was\n",
    "1. Well-known model and perform well on computer vision tasks.\n",
    "1. Easy to train even on a decent laptop.\n",
    "\n",
    "I think this is suitable for the current problem because the validation accuracy is as high as over 97% in general. In comparing with literature, it is a pretty decent accuracy."
   ]
  },
  {
   "cell_type": "markdown",
   "metadata": {},
   "source": [
    "---\n",
    "\n",
    "## Step 3: Test a Model on New Images\n",
    "\n",
    "Take several pictures of traffic signs that you find on the web or around you (at least five), and run them through your classifier on your computer to produce example results. The classifier might not recognize some local signs but it could prove interesting nonetheless.\n",
    "\n",
    "You may find `signnames.csv` useful as it contains mappings from the class id (integer) to the actual sign name."
   ]
  },
  {
   "cell_type": "markdown",
   "metadata": {},
   "source": [
    "### Implementation\n",
    "\n",
    "Use the code cell (or multiple code cells, if necessary) to implement the first step of your project. Once you have completed your implementation and are satisfied with the results, be sure to thoroughly answer the questions that follow."
   ]
  },
  {
   "cell_type": "code",
   "execution_count": 15,
   "metadata": {
    "collapsed": true
   },
   "outputs": [],
   "source": [
    "import matplotlib.image as mpimg\n",
    "import numpy as np\n",
    "images = np.zeros((5,32,32,3),dtype='uint8')\n",
    "image = mpimg.imread('test_images/resize/1.jpg')\n",
    "images[0] = image\n",
    "image = mpimg.imread('test_images/resize/2.jpg')\n",
    "images[1] = image\n",
    "image = mpimg.imread('test_images/resize/3.jpg')\n",
    "images[2] = image\n",
    "image = mpimg.imread('test_images/resize/4.jpg')\n",
    "images[3] = image\n",
    "image = mpimg.imread('test_images/resize/5.jpg')\n",
    "images[4] = image"
   ]
  },
  {
   "cell_type": "code",
   "execution_count": 16,
   "metadata": {
    "collapsed": true
   },
   "outputs": [],
   "source": [
    "images_n = min_max_normalization(images)"
   ]
  },
  {
   "cell_type": "code",
   "execution_count": 17,
   "metadata": {},
   "outputs": [
    {
     "name": "stdout",
     "output_type": "stream",
     "text": [
      "INFO:tensorflow:Restoring parameters from ./lenet\n"
     ]
    }
   ],
   "source": [
    "predicted_classes = []\n",
    "with tf.Session() as sess:\n",
    "    saver.restore(sess, tf.train.latest_checkpoint('.'))\n",
    "    #predicted_classes = sess.run(tf.argmax(LeNet(x), 1), feed_dict={x: X_test})\n",
    "    predicted_classes = sess.run(tf.argmax(logits, 1), feed_dict={x: images_n})"
   ]
  },
  {
   "cell_type": "code",
   "execution_count": 18,
   "metadata": {},
   "outputs": [
    {
     "data": {
      "text/plain": [
       "array([13,  3,  2, 12, 15])"
      ]
     },
     "execution_count": 18,
     "metadata": {},
     "output_type": "execute_result"
    }
   ],
   "source": [
    "predicted_classes"
   ]
  },
  {
   "cell_type": "markdown",
   "metadata": {},
   "source": [
    "### Question 6\n",
    "\n",
    "_Choose five candidate images of traffic signs and provide them in the report. Are there any particular qualities of the image(s) that might make classification difficult? It could be helpful to plot the images in the notebook._\n",
    "\n"
   ]
  },
  {
   "cell_type": "code",
   "execution_count": 19,
   "metadata": {},
   "outputs": [
    {
     "data": {
      "image/png": "[encoded data removed]",
      "text/plain": [
       "<matplotlib.figure.Figure at 0x7f47c76c5128>"
      ]
     },
     "metadata": {},
     "output_type": "display_data"
    }
   ],
   "source": [
    "import pandas as pd\n",
    "signnames = pd.read_csv(\"signnames.csv\");\n",
    "\n",
    "plt.rcParams['figure.figsize'] = (20.0, 20.0)\n",
    "f, ax = plt.subplots(nrows=1, ncols=5)\n",
    "\n",
    "for i, item in enumerate(predicted_classes):\n",
    "    fullname = str(signnames.iloc[predicted_classes[i]].SignName)\n",
    "    ax[i].axis('off')\n",
    "    ax[i].set_title(fullname, loc='center')\n",
    "    ax[i].imshow(images[i])"
   ]
  },
  {
   "cell_type": "markdown",
   "metadata": {},
   "source": [
    "**Answer:**\n",
    "\n",
    "I plot the 5 images with predictions as the image title. We can tell if the image is tilted, it is difficult to classify (e.g. second image should be bumpy road, but it fails to identify)"
   ]
  },
  {
   "cell_type": "markdown",
   "metadata": {},
   "source": [
    "### Question 7\n",
    "\n",
    "_Is your model able to perform equally well on captured pictures when compared to testing on the dataset? The simplest way to do this check the accuracy of the predictions. For example, if the model predicted 1 out of 5 signs correctly, it's 20% accurate._\n",
    "\n",
    "_**NOTE:** You could check the accuracy manually by using `signnames.csv` (same directory). This file has a mapping from the class id (0-42) to the corresponding sign name. So, you could take the class id the model outputs, lookup the name in `signnames.csv` and see if it matches the sign from the image._\n"
   ]
  },
  {
   "cell_type": "markdown",
   "metadata": {},
   "source": [
    "**Answer:**\n",
    "\n",
    "The images I got online and resized to 32 by 32. The correct images should be \"Yield\", \"Bumpy road\", \" Speed limit (50km/h)\", \"Priority road\", \"No vehicles\". The model performs well on captured pictures. 4 of them are correctly identified, the accuracy is 80%."
   ]
  },
  {
   "cell_type": "markdown",
   "metadata": {},
   "source": [
    "### Question 8\n",
    "\n",
    "*Use the model's softmax probabilities to visualize the **certainty** of its predictions, [`tf.nn.top_k`](https://www.tensorflow.org/versions/r0.12/api_docs/python/nn.html#top_k) could prove helpful here. Which predictions is the model certain of? Uncertain? If the model was incorrect in its initial prediction, does the correct prediction appear in the top k? (k should be 5 at most)*\n",
    "\n",
    "`tf.nn.top_k` will return the values and indices (class ids) of the top k predictions. So if k=3, for each sign, it'll return the 3 largest probabilities (out of a possible 43) and the correspoding class ids.\n",
    "\n",
    "Take this numpy array as an example:\n",
    "\n",
    "```\n",
    "# (5, 6) array\n",
    "a = np.array([[ 0.24879643,  0.07032244,  0.12641572,  0.34763842,  0.07893497,\n",
    "         0.12789202],\n",
    "       [ 0.28086119,  0.27569815,  0.08594638,  0.0178669 ,  0.18063401,\n",
    "         0.15899337],\n",
    "       [ 0.26076848,  0.23664738,  0.08020603,  0.07001922,  0.1134371 ,\n",
    "         0.23892179],\n",
    "       [ 0.11943333,  0.29198961,  0.02605103,  0.26234032,  0.1351348 ,\n",
    "         0.16505091],\n",
    "       [ 0.09561176,  0.34396535,  0.0643941 ,  0.16240774,  0.24206137,\n",
    "         0.09155967]])\n",
    "```\n",
    "\n",
    "Running it through `sess.run(tf.nn.top_k(tf.constant(a), k=3))` produces:\n",
    "\n",
    "```\n",
    "TopKV2(values=array([[ 0.34763842,  0.24879643,  0.12789202],\n",
    "       [ 0.28086119,  0.27569815,  0.18063401],\n",
    "       [ 0.26076848,  0.23892179,  0.23664738],\n",
    "       [ 0.29198961,  0.26234032,  0.16505091],\n",
    "       [ 0.34396535,  0.24206137,  0.16240774]]), indices=array([[3, 0, 5],\n",
    "       [0, 1, 4],\n",
    "       [0, 5, 1],\n",
    "       [1, 3, 5],\n",
    "       [1, 4, 3]], dtype=int32))\n",
    "```\n",
    "\n",
    "Looking just at the first row we get `[ 0.34763842,  0.24879643,  0.12789202]`, you can confirm these are the 3 largest probabilities in `a`. You'll also notice `[3, 0, 5]` are the corresponding indices."
   ]
  },
  {
   "cell_type": "code",
   "execution_count": 20,
   "metadata": {},
   "outputs": [
    {
     "name": "stdout",
     "output_type": "stream",
     "text": [
      "INFO:tensorflow:Restoring parameters from ./lenet\n"
     ]
    }
   ],
   "source": [
    "predicted_classes = []\n",
    "with tf.Session() as sess:\n",
    "    saver.restore(sess, tf.train.latest_checkpoint('.'))\n",
    "    #predicted_classes = sess.run(tf.argmax(logits, 1), feed_dict={x: X_test})\n",
    "    #add softmax layer to predict the possibility.\n",
    "    TopKV2 = sess.run(tf.nn.top_k(tf.nn.softmax(logits), 5), feed_dict={x: images_n})"
   ]
  },
  {
   "cell_type": "code",
   "execution_count": 21,
   "metadata": {},
   "outputs": [
    {
     "name": "stdout",
     "output_type": "stream",
     "text": [
      "(5, 5)\n"
     ]
    }
   ],
   "source": [
    "print(TopKV2.indices.shape)"
   ]
  },
  {
   "cell_type": "code",
   "execution_count": 22,
   "metadata": {},
   "outputs": [
    {
     "name": "stdout",
     "output_type": "stream",
     "text": [
      "For image 1:\n",
      "'Yield' with possibility 1.0\n",
      "'Speed limit (20km/h)' with possibility 0.0\n",
      "'Speed limit (30km/h)' with possibility 0.0\n",
      "'Speed limit (50km/h)' with possibility 0.0\n",
      "'Speed limit (60km/h)' with possibility 0.0\n",
      "For image 2:\n",
      "'Speed limit (60km/h)' with possibility 0.999804\n",
      "'Children crossing' with possibility 0.000151157\n",
      "'Bicycles crossing' with possibility 4.44083e-05\n",
      "'Speed limit (100km/h)' with possibility 2.48596e-07\n",
      "'Right-of-way at the next intersection' with possibility 3.10668e-08\n",
      "For image 3:\n",
      "'Speed limit (50km/h)' with possibility 0.993248\n",
      "'Speed limit (80km/h)' with possibility 0.00609339\n",
      "'Dangerous curve to the left' with possibility 0.000646385\n",
      "'Speed limit (30km/h)' with possibility 1.09628e-05\n",
      "'Speed limit (70km/h)' with possibility 1.13559e-06\n",
      "For image 4:\n",
      "'Priority road' with possibility 1.0\n",
      "'Yield' with possibility 5.05556e-29\n",
      "'No entry' with possibility 7.31068e-33\n",
      "'No vehicles' with possibility 8.51515e-35\n",
      "'Speed limit (60km/h)' with possibility 1.15955e-35\n",
      "For image 5:\n",
      "'No vehicles' with possibility 1.0\n",
      "'Speed limit (80km/h)' with possibility 2.18475e-07\n",
      "'Wild animals crossing' with possibility 3.64687e-08\n",
      "'Bicycles crossing' with possibility 6.89518e-09\n",
      "'Speed limit (70km/h)' with possibility 3.85409e-11\n"
     ]
    },
    {
     "data": {
      "image/png": "[encoded data removed]",
      "text/plain": [
       "<matplotlib.figure.Figure at 0x7f47c5e3ca90>"
      ]
     },
     "metadata": {},
     "output_type": "display_data"
    }
   ],
   "source": [
    "plt.rcParams['figure.figsize'] = (20.0, 20.0)\n",
    "f, ax = plt.subplots(nrows=1, ncols=5)\n",
    "\n",
    "for i in range(5):\n",
    "    print(\"For image \" + str(i+1) +\":\")\n",
    "    for j in range(5):\n",
    "        print(\"'\" + str(signnames.iloc[TopKV2.indices[i][j]].SignName) + \"' with possibility \" + str(TopKV2.values[i][j]))\n",
    "        ax[i].axis('off')\n",
    "        ax[i].imshow(images[i])"
   ]
  },
  {
   "cell_type": "markdown",
   "metadata": {},
   "source": [
    "**Answer:**\n",
    "\n",
    "Even with top five predictions, the classifier fails to identify the second image in the five options, which is tilted. With this, we can assume that our classifier won't be very good job with tilted image."
   ]
  },
  {
   "cell_type": "markdown",
   "metadata": {},
   "source": [
    "> **Note**: Once you have completed all of the code implementations and successfully answered each question above, you may finalize your work by exporting the iPython Notebook as an HTML document. You can do this by using the menu above and navigating to  \\n\",\n",
    "    \"**File -> Download as -> HTML (.html)**. Include the finished document along with this notebook as your submission."
   ]
  },
  {
   "cell_type": "code",
   "execution_count": null,
   "metadata": {
    "collapsed": true
   },
   "outputs": [],
   "source": []
  }
 ],
 "metadata": {
  "anaconda-cloud": {},
  "kernelspec": {
   "display_name": "Python 3",
   "language": "python",
   "name": "python3"
  },
  "language_info": {
   "codemirror_mode": {
    "name": "ipython",
    "version": 3
   },
   "file_extension": ".py",
   "mimetype": "text/x-python",
   "name": "python",
   "nbconvert_exporter": "python",
   "pygments_lexer": "ipython3",
   "version": "3.6.1"
  }
 },
 "nbformat": 4,
 "nbformat_minor": 1
}
